{
 "cells": [
  {
   "cell_type": "code",
   "execution_count": null,
   "metadata": {},
   "outputs": [],
   "source": [
    "import numpy as np\n",
    "import pandas as pd\n",
    "import matplotlib.pyplot as plt"
   ]
  },
  {
   "cell_type": "code",
   "execution_count": null,
   "metadata": {},
   "outputs": [],
   "source": [
    "import matplotlib.font_manager as fm\n",
    "font_name = fm.FontProperties(fname=\"c:/Windows/Fonts/malgun.ttf\").get_name()\n",
    "plt.rc('font', family=font_name)"
   ]
  },
  {
   "cell_type": "code",
   "execution_count": null,
   "metadata": {
    "scrolled": false
   },
   "outputs": [],
   "source": [
    "df = pd.read_excel('ulsan_covid.xlsx')\n",
    "df.head(10)"
   ]
  },
  {
   "cell_type": "code",
   "execution_count": null,
   "metadata": {},
   "outputs": [],
   "source": [
    "df['환자'] = df['환자'].str.split('#').str[1]\n",
    "df"
   ]
  },
  {
   "cell_type": "code",
   "execution_count": null,
   "metadata": {},
   "outputs": [],
   "source": [
    "df.rename(columns={'환자':'확진자번호'}, inplace=True)\n",
    "df.tail(10)"
   ]
  },
  {
   "cell_type": "code",
   "execution_count": null,
   "metadata": {},
   "outputs": [],
   "source": [
    "df['격리시설/퇴원일'] = df['격리시설/퇴원일'].str.split('(').str[0]\n",
    "df.tail(10)"
   ]
  },
  {
   "cell_type": "code",
   "execution_count": null,
   "metadata": {},
   "outputs": [],
   "source": [
    "df.rename(columns={'격리시설/퇴원일':'현재상태'}, inplace=True)\n",
    "df"
   ]
  },
  {
   "cell_type": "code",
   "execution_count": null,
   "metadata": {},
   "outputs": [],
   "source": [
    "bydate = df['확진일'].value_counts().sort_index() #ascending=False\n",
    "bydate"
   ]
  },
  {
   "cell_type": "code",
   "execution_count": null,
   "metadata": {
    "scrolled": false
   },
   "outputs": [],
   "source": [
    "plt.figure(figsize=(15,5)) # 기본크기 [6.4, 4.8] \n",
    "#last_bydate = bydate.tail(30)\n",
    "#plt.plot(last_bydate.index, last_bydate.values, label='일일 확진자 수', color='r')\n",
    "plt.bar(bydate.index, bydate.values, label='일일 확진자 수', color='r')\n",
    "plt.title('울산 일자별 확진자 추이')\n",
    "plt.xlabel('일자')\n",
    "plt.ylabel('확진자 수(명)')\n",
    "plt.legend()\n",
    "plt.show()"
   ]
  },
  {
   "cell_type": "code",
   "execution_count": null,
   "metadata": {},
   "outputs": [],
   "source": [
    "plt.figure(figsize=(15, 5))\n",
    "#last_bydate = bydate.tail(20)\n",
    "plt.plot(bydate.index, bydate.values.cumsum(), label='누적 확진자 수', color='g')\n",
    "plt.title('울산 일자별 누적 확진자 수 추이')\n",
    "plt.xlabel('일자')\n",
    "plt.ylabel('확진자 수(명)')\n",
    "plt.legend()\n",
    "plt.show()"
   ]
  },
  {
   "cell_type": "code",
   "execution_count": null,
   "metadata": {
    "scrolled": true
   },
   "outputs": [],
   "source": [
    "plt.figure(figsize=(15, 5))\n",
    "#last_bydate = bydate.tail(20)\n",
    "plt.bar(bydate.index, bydate.values, label='일일 확진자 수', color='r')\n",
    "plt.plot(bydate.index, bydate.values.cumsum(), label='누적 확진자 수', color='g')\n",
    "plt.title('울산 일자별 확진자 추이')\n",
    "plt.xlabel('일자')\n",
    "plt.ylabel('확진자 수(명)')\n",
    "plt.legend()\n",
    "plt.show()"
   ]
  },
  {
   "cell_type": "code",
   "execution_count": null,
   "metadata": {
    "scrolled": false
   },
   "outputs": [],
   "source": [
    "fig, ax0 = plt.subplots(figsize=(15,5))\n",
    "ax1 = ax0.twinx()\n",
    "ax0.set_title(\"울산 일자별 확진자 추이\")\n",
    "ax0.bar(bydate.index, bydate.values, label='일일 확진자 수', color='r')\n",
    "ax0.set_xlabel(\"일자\")\n",
    "ax0.set_ylabel(\"확진자 수(명)\", color='red')\n",
    "ax0.legend(loc='upper left')\n",
    "ax1.plot(bydate.index, bydate.values.cumsum(), label='누적 확진자 수', color='g')\n",
    "ax1.set_ylabel(\"누적 확진자 수(명)\", color='green')\n",
    "ax1.legend(loc='upper right')\n",
    "plt.show()"
   ]
  },
  {
   "cell_type": "code",
   "execution_count": null,
   "metadata": {},
   "outputs": [],
   "source": [
    "byregion = df['거주지'].value_counts().sort_values(ascending=False)\n",
    "byregion"
   ]
  },
  {
   "cell_type": "code",
   "execution_count": null,
   "metadata": {
    "scrolled": true
   },
   "outputs": [],
   "source": [
    "plt.figure(figsize=(15, 5))\n",
    "plt.bar(byregion.index, byregion.values, label='지역별 확진자 수', color='yellow')\n",
    "plt.title('울산 지역별 확진자')\n",
    "plt.xlabel('지역명')\n",
    "plt.ylabel('확진자 수(명)')\n",
    "plt.show()"
   ]
  },
  {
   "cell_type": "code",
   "execution_count": null,
   "metadata": {
    "scrolled": false
   },
   "outputs": [],
   "source": [
    "plt.pie(byregion.values, autopct='%.2f%%',shadow=True, explode=(0.3,0,0,0.1,0) , labels=byregion.index)\n",
    "plt.title('울산 지역별 확진자 비율')\n",
    "plt.legend(loc='upper left')\n",
    "plt.show()"
   ]
  },
  {
   "cell_type": "code",
   "execution_count": null,
   "metadata": {},
   "outputs": [],
   "source": [
    "status = df['현재상태'].value_counts().sort_values(ascending=False)\n",
    "status"
   ]
  },
  {
   "cell_type": "code",
   "execution_count": null,
   "metadata": {
    "scrolled": false
   },
   "outputs": [],
   "source": [
    "plt.pie(status.values, autopct='%.2f%%', shadow=True, explode=(0.2,0.2,0.2), labels=status.index)\n",
    "plt.title('울산 확진자 현재 상태')\n",
    "plt.legend(loc='upper left')\n",
    "plt.show()"
   ]
  },
  {
   "cell_type": "code",
   "execution_count": null,
   "metadata": {},
   "outputs": [],
   "source": []
  }
 ],
 "metadata": {
  "kernelspec": {
   "display_name": "Python 3",
   "language": "python",
   "name": "python3"
  },
  "language_info": {
   "codemirror_mode": {
    "name": "ipython",
    "version": 3
   },
   "file_extension": ".py",
   "mimetype": "text/x-python",
   "name": "python",
   "nbconvert_exporter": "python",
   "pygments_lexer": "ipython3",
   "version": "3.8.3"
  }
 },
 "nbformat": 4,
 "nbformat_minor": 4
}
